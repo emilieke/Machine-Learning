{
 "cells": [
  {
   "cell_type": "markdown",
   "metadata": {},
   "source": [
    "# Machine Learning\n",
    "\n",
    "## Session #7: Hidden Markov Models for stock data analysis\n",
    "\n",
    "This notebook is based on the notebook [``plot_hmm_stock_analysis.ipynb``](http://hmmlearn.readthedocs.org/en/stable/auto_examples/plot_hmm_stock_analysis.html#sphx-glr-auto-examples-plot-hmm-stock-analysis-py) of [hmmlearn](http://hmmlearn.readthedocs.org/en/stable/index.html) and [``date_demo1.py``](http://matplotlib.org/examples/pylab_examples/date_demo1.html) of [matplotlib](http://matplotlib.org/index.html).\n",
    "\n",
    "\n",
    "\n",
    "### 1. Yahoo! stock market time series\n",
    "\n",
    "This script load a time series containing the stock price data from Yahoo! finance and shows how to use Gaussian HMM on it"
   ]
  },
  {
   "cell_type": "code",
   "execution_count": null,
   "metadata": {
    "collapsed": false
   },
   "outputs": [],
   "source": [
    "%matplotlib inline\n",
    "from __future__ import print_function\n",
    "\n",
    "import datetime\n",
    "\n",
    "import numpy as np\n",
    "from matplotlib import cm, pyplot as plt\n",
    "from matplotlib.dates import YearLocator, MonthLocator\n",
    "try:\n",
    "    from matplotlib.finance import quotes_historical_yahoo_ochl\n",
    "except ImportError:\n",
    "    # For Matplotlib prior to 1.5.\n",
    "    from matplotlib.finance import (\n",
    "        quotes_historical_yahoo as quotes_historical_yahoo_ochl\n",
    "    )\n",
    "\n",
    "from hmmlearn.hmm import GaussianHMM\n",
    "\n",
    "import hmmlearn.hmm as hmm\n",
    "print(__doc__)"
   ]
  },
  {
   "cell_type": "markdown",
   "metadata": {},
   "source": [
    "## Prepare the data "
   ]
  },
  {
   "cell_type": "code",
   "execution_count": null,
   "metadata": {
    "collapsed": false,
    "scrolled": true
   },
   "outputs": [],
   "source": [
    "quotes = quotes_historical_yahoo_ochl(\n",
    "    \"INTC\", datetime.date(1995, 1, 1), datetime.date(2015, 1, 6))\n",
    "\n",
    "# Unpack quotes\n",
    "dates = np.array([q[0] for q in quotes], dtype=int)\n",
    "close_v = np.array([q[2] for q in quotes])\n",
    "volume = np.array([q[5] for q in quotes])[1:]\n",
    "\n",
    "# Take diff of close value. Note that this makes\n",
    "# ``len(diff) = len(close_t) - 1``, therefore, other quantities also\n",
    "# need to be shifted by 1.\n",
    "diff = np.diff(close_v)\n",
    "dates = dates[1:]\n",
    "close_v = close_v[1:]\n",
    "\n",
    "# Pack diff and volume for training.\n",
    "X = np.column_stack([diff, volume])"
   ]
  },
  {
   "cell_type": "code",
   "execution_count": null,
   "metadata": {
    "collapsed": false
   },
   "outputs": [],
   "source": [
    "plt.plot(dates,X[:,0])\n",
    "plt.show()\n",
    "plt.plot(dates,X[:,1])\n",
    "plt.show()"
   ]
  },
  {
   "cell_type": "markdown",
   "metadata": {},
   "source": [
    "## Run Gaussian HMM\n"
   ]
  },
  {
   "cell_type": "code",
   "execution_count": null,
   "metadata": {
    "collapsed": false
   },
   "outputs": [],
   "source": [
    "print(\"fitting to HMM and decoding ...\", end=\"\")\n",
    "\n",
    "# Make an HMM instance and execute fit\n",
    "model = GaussianHMM(n_components=4, covariance_type=\"diag\", n_iter=1000).fit(X)\n",
    "\n",
    "# Predict the optimal sequence of internal hidden state\n",
    "hidden_states = model.predict(X)\n",
    "\n",
    "print(\"done\")"
   ]
  },
  {
   "cell_type": "markdown",
   "metadata": {},
   "source": [
    "## Print trained parameters and plot\n"
   ]
  },
  {
   "cell_type": "code",
   "execution_count": null,
   "metadata": {
    "collapsed": false
   },
   "outputs": [],
   "source": [
    "print(\"Transition matrix\")\n",
    "print(np.round(model.transmat_,2))\n",
    "print()\n",
    "\n",
    "print(\"Means and vars of each hidden state\")\n",
    "for i in range(model.n_components):\n",
    "    print(\"{0}th hidden state\".format(i))\n",
    "    print(\"mean = \", np.round(model.means_[i],2))\n",
    "    print(\"var = \", np.round(np.diag(model.covars_[i]),2))\n",
    "    print()\n",
    "\n",
    "fig, axs = plt.subplots(model.n_components, sharex=True, sharey=True)\n",
    "colours = cm.rainbow(np.linspace(0, 1, model.n_components))\n",
    "for i, (ax, colour) in enumerate(zip(axs, colours)):\n",
    "    # Use fancy indexing to plot data in each state.\n",
    "    mask = hidden_states == i\n",
    "    ax.plot_date(dates[mask], close_v[mask], \".-\", c=colour)\n",
    "    ax.set_title(\"{0}th hidden state\".format(i))\n",
    "\n",
    "    # Format the ticks.\n",
    "    ax.xaxis.set_major_locator(YearLocator())\n",
    "    ax.xaxis.set_minor_locator(MonthLocator())\n",
    "\n",
    "    ax.grid(True)\n",
    "\n",
    "plt.show()"
   ]
  },
  {
   "cell_type": "markdown",
   "metadata": {},
   "source": []
  },
  {
   "cell_type": "markdown",
   "metadata": {},
   "source": [
    "### 2. Changing the model parameters\n",
    "\n",
    "* Change the number of hidden states, from 2 to 6, calculate the likelihood of each model. Interpret the results.\n",
    "* With 4 hidden states, change the number of initizalizations to 1 and evaluate the likelihood of the model in 10 runs of the EM algorithm\n"
   ]
  },
  {
   "cell_type": "markdown",
   "metadata": {},
   "source": [
    "### 3. Changing the model\n",
    "\n",
    "Change the emission probability to a GMMHMM, and repeat #2 varying the number of component from 1 to 3 and the number of hidden states from 2 to 5"
   ]
  },
  {
   "cell_type": "code",
   "execution_count": null,
   "metadata": {
    "collapsed": true
   },
   "outputs": [],
   "source": []
  }
 ],
 "metadata": {
  "anaconda-cloud": {},
  "kernelspec": {
   "display_name": "Python [conda env:py3.2]",
   "language": "python",
   "name": "conda-env-py3.2-py"
  },
  "language_info": {
   "codemirror_mode": {
    "name": "ipython",
    "version": 3
   },
   "file_extension": ".py",
   "mimetype": "text/x-python",
   "name": "python",
   "nbconvert_exporter": "python",
   "pygments_lexer": "ipython3",
   "version": "3.6.0"
  }
 },
 "nbformat": 4,
 "nbformat_minor": 0
}
