{
 "cells": [
  {
   "cell_type": "markdown",
   "metadata": {},
   "source": [
    "# Homework 6: Emilie Engen, 100356077"
   ]
  },
  {
   "cell_type": "markdown",
   "metadata": {},
   "source": [
    "# Machine Learning\n",
    "\n",
    "## Homework #6: Hidden Markov Models for speech processing\n",
    "\n",
    "### A. The three Basic Problems for HMMs\n",
    "\n",
    "For convenience, we use the compact notation \n",
    "\n",
    "$$\\lambda=(A, B,  \\pi)$$\n",
    "\n",
    "to indicate the complete parameter set of the model, where $A$ is the state transition probability distribution, $B$ the emission probability distribution (which can be any distribution with parameters $\\Theta$) and $\\pi$ the initial state distribution.\n",
    "\n",
    "### Problem 1: \n",
    "Given the observation sequence $O=O_1, O_2, ..., O_T$, and a model $\\lambda=(A, B,  \\pi)$, how do efficiently compute $P(O|\\lambda)$?\n",
    "Problem 1 is the evaluation problem, namely given a model and a sequence of observations, how do we compute the probability that the observed sequence was produced by the model. To solve this problem we use the **forward-backward algorithm**.\n",
    "\n",
    "### Problem 2: \n",
    "Given the observation sequence $O=O_1, O_2, ..., O_T$, and a model $\\lambda=(A, B,  \\pi)$, how do we choose a corresponding state sequence $Q= q_1, q_2, ..., q_T$?\n",
    "Problem 2 is the one in which we attempt to uncover the hidden part of the model, that is, the \"correct\" state sequence. A formal technique for finding thes best state sequence is based on dynamic programming methods, and is called **the Viterbi algorithm**.\n",
    "\n",
    "\n",
    "### Problem 3: \n",
    "How do we adjust the model parameters $\\lambda=(A, B,  \\pi)$ to maximize the probability of the observation sequence given the model $P(O|\\lambda)$?\n",
    "There is no known way to analytically solve this problem. We can, however, choose $\\lambda=(A, B,  \\pi)$ such that $P(O|\\lambda)$? is locally maximized using an iterative procedure such as the **the Baum-Welch algoritm** (or equivalently th EM algorithm).\n",
    "\n",
    "\n",
    "\n",
    "\n",
    "**Reference**\n",
    "\n",
    "Lawrence R. Rabiner \"A tutorial on hidden Markov models and selected applications in speech recognition\" Proceedings of the IEEE 77.2, 1989"
   ]
  },
  {
   "cell_type": "markdown",
   "metadata": {},
   "source": [
    "### B. Problem description\n",
    "\n",
    "The aim of this session is to design a HMM-based speech recogniser.\n",
    "\n",
    "The idea is to design a **word speech recogizer**. For each word of the 7 available words we want to fit a separate N-state HMM. We represent the speech signal of a given word as a **time sequence of coded spectral feature vectors**. For each word, we have a training sequence consisting of 15 repetitions of sequences (by one or more talkers).\n",
    "\n",
    "* The first task is to build individual word models. **This task is done by using the solution to Problem 3** to optimally estimate model parameters for each word model.\n",
    "\n",
    "* **To understand the physical meaning of the model states, we use the solution to Problem 2** to divide each of the word training sequences into states, and then study the properties of the spectral vectors that lead to the observation ocurring in each state.\n",
    "\n",
    "* Finally, once the set of 7 HMMs has been fitted and optimized , **recognition of unknown word is performed using the solution of Problem 1**.\n",
    "\n",
    "The file ``words_db.pickle`` contains 15 instances of 7 different words. ``words_db['signals']`` contains the audio signals at a sampling frequency of 8 KHz, ``words_db['features']`` contains a 6 dimensions frequency feature sequences extracted from the audio signals, and ``words_db['word_labels']`` contains the transcription of the words. \n",
    "\n",
    "Depending on the computer hardware specifications, the signals can be reproduced using the package ``audiolab`` from ``scikits``."
   ]
  },
  {
   "cell_type": "markdown",
   "metadata": {},
   "source": [
    "### 1. Word sequences modeling\n",
    "\n",
    "\n",
    "* Load the file and select the instances of the word ``apple``\n",
    "* Divide the instances of the word ``apple`` into train (5) and test (10)\n",
    "* Train a HMM with Gaussian emission probability and 3 hidden states using the train sequences and evaluate the loglikelihood on the test sequences\n",
    "* Plot the loglikelihood on the test sequences using a number of hidden states from 1 to 10 and comment the obtained results."
   ]
  },
  {
   "cell_type": "markdown",
   "metadata": {},
   "source": [
    "### 2. Word classifier\n",
    "\n",
    "We will now train a different HMM for each word, and the output of the classifier will be the word with higher loglikelihood.\n",
    "* Divide the instances of each word into train (5) and test (10)\n",
    "* Train the HMM's and estimate the classification error on the test instances. Print out the confusion matrix.\n",
    "* Use LOO onto the train instances to select the number of hidden states. Try values from 1 to 5."
   ]
  },
  {
   "cell_type": "markdown",
   "metadata": {},
   "source": [
    "Import packages and load file"
   ]
  },
  {
   "cell_type": "code",
   "execution_count": 1,
   "metadata": {
    "collapsed": false
   },
   "outputs": [],
   "source": [
    "%matplotlib inline\n",
    "\n",
    "import numpy as np\n",
    "import scipy\n",
    "from hmmlearn.hmm import GaussianHMM\n",
    "from sklearn import preprocessing\n",
    "import pickle\n",
    "from matplotlib import pyplot as plt\n",
    "from sklearn.metrics import classification_report, confusion_matrix\n",
    "\n",
    "import warnings\n",
    "warnings.simplefilter(\"default\")\n",
    "\n",
    "# Load the file\n",
    "with open('words_db.pickle','rb') as handle:\n",
    "    words_db = pickle.load(handle,encoding='latin1') "
   ]
  },
  {
   "cell_type": "markdown",
   "metadata": {},
   "source": [
    "Declare features and labels"
   ]
  },
  {
   "cell_type": "code",
   "execution_count": 2,
   "metadata": {
    "collapsed": false
   },
   "outputs": [
    {
     "name": "stdout",
     "output_type": "stream",
     "text": [
      "['banana', 'kiwi', 'peach', 'apple', 'pineapple', 'lime', 'orange']\n"
     ]
    }
   ],
   "source": [
    "# Signals\n",
    "signals=words_db['signals']\n",
    "\n",
    "# Features\n",
    "features=words_db['features']\n",
    "\n",
    "# Words labels\n",
    "labels=words_db['labels']\n",
    "\n",
    "# Print the different words\n",
    "words=list(set(labels))\n",
    "print(words)"
   ]
  },
  {
   "cell_type": "markdown",
   "metadata": {},
   "source": [
    "Get indices of a given targetword"
   ]
  },
  {
   "cell_type": "code",
   "execution_count": 3,
   "metadata": {
    "collapsed": true
   },
   "outputs": [],
   "source": [
    "def word_idx(allwords,targetword):\n",
    "    idx=np.array([i for i,x in enumerate(allwords) if x==targetword])\n",
    "    orden=np.arange(idx.shape[0])\n",
    "    np.random.shuffle(idx)\n",
    "    return idx"
   ]
  },
  {
   "cell_type": "markdown",
   "metadata": {},
   "source": [
    "Print the indices for the word ``apple``"
   ]
  },
  {
   "cell_type": "code",
   "execution_count": 4,
   "metadata": {
    "collapsed": false
   },
   "outputs": [
    {
     "name": "stdout",
     "output_type": "stream",
     "text": [
      "[ 1  7 10  0  8  4  6  5 11  9  3 14 13 12  2]\n"
     ]
    }
   ],
   "source": [
    "idx=word_idx(labels,'apple')\n",
    "print(idx)"
   ]
  },
  {
   "cell_type": "markdown",
   "metadata": {},
   "source": [
    "### Word sequences modeling\n",
    "\n",
    "Define functions for getting train and test sets for a given word and for fitting a Gaussian HMM model"
   ]
  },
  {
   "cell_type": "code",
   "execution_count": 5,
   "metadata": {
    "collapsed": true
   },
   "outputs": [],
   "source": [
    "# Get train and test sets and their respective sequence lengths\n",
    "def getTrainTestSets(features,idx):\n",
    "    # idx is the index vector identifying a given word\n",
    "    numsq_train=5 # Number of sequences in training set\n",
    "    numsq_test=10 # Number of sequences in test set\n",
    "    # Notice that I had to include dtype int to make the array of integer type\n",
    "    seqlenght_train = np.empty(numsq_train,dtype=np.int) # Sequence length train set\n",
    "    x_train = np.empty([0,6])\n",
    "    \n",
    "    for i in range(numsq_train):\n",
    "        x_train = np.append(x_train,np.transpose(features[idx[i]]),axis=0)\n",
    "        seqlenght_train[i] = int(features[idx[i]].shape[1])\n",
    "    \n",
    "    seqlenght_test = np.empty(numsq_test,dtype=np.int) # Sequence length test set\n",
    "    x_test = np.empty([0,6])\n",
    "    \n",
    "    for i in range(numsq_train,15):\n",
    "        x_test = np.append(x_test,np.transpose(features[idx[i]]),axis=0)\n",
    "        seqlenght_test[i-numsq_train] = int(features[idx[i]].shape[1])\n",
    "    \n",
    "    return x_train,seqlenght_train,x_test,seqlenght_test\n",
    "\n",
    "# Fit a Gaussian HMM model and evaluate the log likelihood\n",
    "np.random.seed(0)\n",
    "def fitGaussianHMM(x_train,seqlenght_train,x_test,seqlenght_test,n_components):\n",
    "    model = GaussianHMM(n_components=n_components,covariance_type=\"full\",n_iter=1000).fit(x_train,seqlenght_train)\n",
    "    ll = model.score(x_test,seqlenght_test)\n",
    "    return ll,model"
   ]
  },
  {
   "cell_type": "markdown",
   "metadata": {},
   "source": [
    "Divide the instances of the word ``apple`` into train (5) and test (10)"
   ]
  },
  {
   "cell_type": "code",
   "execution_count": 6,
   "metadata": {
    "collapsed": false
   },
   "outputs": [],
   "source": [
    "idx = word_idx(labels,'apple')\n",
    "x_train,seqlenght_train,x_test,seqlenght_test = getTrainTestSets(features,idx)"
   ]
  },
  {
   "cell_type": "markdown",
   "metadata": {},
   "source": [
    "Train a HMM with Gaussian emission probability and 3 hidden states using the train sequences and evaluate the loglikelihood on the test sequences"
   ]
  },
  {
   "cell_type": "code",
   "execution_count": 7,
   "metadata": {
    "collapsed": false
   },
   "outputs": [
    {
     "name": "stdout",
     "output_type": "stream",
     "text": [
      "The log likelihood for the model is -25295.624508047393\n"
     ]
    },
    {
     "name": "stderr",
     "output_type": "stream",
     "text": [
      "/Users/Emilie/anaconda/envs/py3.2/lib/python3.6/site-packages/sklearn/utils/deprecation.py:70: DeprecationWarning: Function distribute_covar_matrix_to_match_covariance_type is deprecated; The functon distribute_covar_matrix_to_match_covariance_typeis deprecated in 0.18 and will be removed in 0.20.\n",
      "  warnings.warn(msg, category=DeprecationWarning)\n",
      "/Users/Emilie/anaconda/envs/py3.2/lib/python3.6/site-packages/sklearn/utils/deprecation.py:70: DeprecationWarning: Function log_multivariate_normal_density is deprecated; The function log_multivariate_normal_density is deprecated in 0.18 and will be removed in 0.20.\n",
      "  warnings.warn(msg, category=DeprecationWarning)\n"
     ]
    }
   ],
   "source": [
    "ll,model = fitGaussianHMM(x_train,seqlenght_train,x_test,seqlenght_test,3)\n",
    "print('The log likelihood for the model is {}'.format(ll))"
   ]
  },
  {
   "cell_type": "markdown",
   "metadata": {},
   "source": [
    "Plot the loglikelihood on the test sequences using a number of hidden states from 1 to 10 and comment the obtained results"
   ]
  },
  {
   "cell_type": "code",
   "execution_count": 8,
   "metadata": {
    "collapsed": false
   },
   "outputs": [
    {
     "name": "stderr",
     "output_type": "stream",
     "text": [
      "/Users/Emilie/anaconda/envs/py3.2/lib/python3.6/site-packages/sklearn/utils/deprecation.py:70: DeprecationWarning: Function distribute_covar_matrix_to_match_covariance_type is deprecated; The functon distribute_covar_matrix_to_match_covariance_typeis deprecated in 0.18 and will be removed in 0.20.\n",
      "  warnings.warn(msg, category=DeprecationWarning)\n",
      "/Users/Emilie/anaconda/envs/py3.2/lib/python3.6/site-packages/sklearn/utils/deprecation.py:70: DeprecationWarning: Function log_multivariate_normal_density is deprecated; The function log_multivariate_normal_density is deprecated in 0.18 and will be removed in 0.20.\n",
      "  warnings.warn(msg, category=DeprecationWarning)\n",
      "/Users/Emilie/anaconda/envs/py3.2/lib/python3.6/site-packages/hmmlearn-0.2.0-py3.6-macosx-10.7-x86_64.egg/hmmlearn/base.py:459: RuntimeWarning: divide by zero encountered in log\n",
      "  np.log(self.startprob_),\n",
      "/Users/Emilie/anaconda/envs/py3.2/lib/python3.6/site-packages/hmmlearn-0.2.0-py3.6-macosx-10.7-x86_64.egg/hmmlearn/base.py:468: RuntimeWarning: divide by zero encountered in log\n",
      "  np.log(self.startprob_),\n",
      "/Users/Emilie/anaconda/envs/py3.2/lib/python3.6/site-packages/hmmlearn-0.2.0-py3.6-macosx-10.7-x86_64.egg/hmmlearn/base.py:460: RuntimeWarning: divide by zero encountered in log\n",
      "  np.log(self.transmat_),\n",
      "/Users/Emilie/anaconda/envs/py3.2/lib/python3.6/site-packages/hmmlearn-0.2.0-py3.6-macosx-10.7-x86_64.egg/hmmlearn/base.py:469: RuntimeWarning: divide by zero encountered in log\n",
      "  np.log(self.transmat_),\n",
      "/Users/Emilie/anaconda/envs/py3.2/lib/python3.6/site-packages/hmmlearn-0.2.0-py3.6-macosx-10.7-x86_64.egg/hmmlearn/base.py:624: RuntimeWarning: divide by zero encountered in log\n",
      "  np.log(self.transmat_),\n"
     ]
    }
   ],
   "source": [
    "lls = np.empty([0,1])\n",
    "idxs = np.empty([0,1])\n",
    "for i in range(1,11):\n",
    "    ll,model = fitGaussianHMM(x_train,seqlenght_train,x_test,seqlenght_test,i)\n",
    "    lls = np.append(lls,ll)\n",
    "    idxs = np.append(idxs,i)"
   ]
  },
  {
   "cell_type": "code",
   "execution_count": 9,
   "metadata": {
    "collapsed": false
   },
   "outputs": [
    {
     "name": "stdout",
     "output_type": "stream",
     "text": [
      "The log likelihood for the model with 1 hidden states is -25581.335211801408\n",
      "The log likelihood for the model with 2 hidden states is -25248.40134585355\n",
      "The log likelihood for the model with 3 hidden states is -25295.624508047327\n",
      "The log likelihood for the model with 4 hidden states is -25245.363411045142\n",
      "The log likelihood for the model with 5 hidden states is -25336.251371875715\n",
      "The log likelihood for the model with 6 hidden states is -25380.402351435027\n",
      "The log likelihood for the model with 7 hidden states is -25578.079855052943\n",
      "The log likelihood for the model with 8 hidden states is -25725.905983004308\n",
      "The log likelihood for the model with 9 hidden states is -25838.230924524636\n",
      "The log likelihood for the model with 10 hidden states is -26303.056826721404\n"
     ]
    }
   ],
   "source": [
    "# Print the log likelihood for each number of hidden states\n",
    "for i in range (len(lls)):\n",
    "    print('The log likelihood for the model with {} hidden states is {}'.format(i+1,lls[i]))"
   ]
  },
  {
   "cell_type": "code",
   "execution_count": 10,
   "metadata": {
    "collapsed": false
   },
   "outputs": [
    {
     "data": {
      "image/png": "[encoded data removed]",
      "text/plain": [
       "<matplotlib.figure.Figure at 0x115ac69e8>"
      ]
     },
     "metadata": {},
     "output_type": "display_data"
    }
   ],
   "source": [
    "# Plot the log likelihood values\n",
    "plt.plot(idxs,lls,'-.');"
   ]
  },
  {
   "cell_type": "markdown",
   "metadata": {},
   "source": [
    "### Word classifier\n",
    "\n",
    "We will now train a different HMM for each word, and the output of the classifier will be the word with higher loglikelihood."
   ]
  },
  {
   "cell_type": "markdown",
   "metadata": {},
   "source": [
    "* Divide the instances of each word into train (5) and test (10)\n",
    "* Train the HMM's and estimate the classification error on the test instances. Print out the confusion matrix."
   ]
  },
  {
   "cell_type": "code",
   "execution_count": 11,
   "metadata": {
    "collapsed": false
   },
   "outputs": [
    {
     "name": "stderr",
     "output_type": "stream",
     "text": [
      "/Users/Emilie/anaconda/envs/py3.2/lib/python3.6/site-packages/sklearn/utils/deprecation.py:70: DeprecationWarning: Function distribute_covar_matrix_to_match_covariance_type is deprecated; The functon distribute_covar_matrix_to_match_covariance_typeis deprecated in 0.18 and will be removed in 0.20.\n",
      "  warnings.warn(msg, category=DeprecationWarning)\n",
      "/Users/Emilie/anaconda/envs/py3.2/lib/python3.6/site-packages/sklearn/utils/deprecation.py:70: DeprecationWarning: Function log_multivariate_normal_density is deprecated; The function log_multivariate_normal_density is deprecated in 0.18 and will be removed in 0.20.\n",
      "  warnings.warn(msg, category=DeprecationWarning)\n",
      "/Users/Emilie/anaconda/envs/py3.2/lib/python3.6/site-packages/hmmlearn-0.2.0-py3.6-macosx-10.7-x86_64.egg/hmmlearn/base.py:459: RuntimeWarning: divide by zero encountered in log\n",
      "  np.log(self.startprob_),\n",
      "/Users/Emilie/anaconda/envs/py3.2/lib/python3.6/site-packages/hmmlearn-0.2.0-py3.6-macosx-10.7-x86_64.egg/hmmlearn/base.py:468: RuntimeWarning: divide by zero encountered in log\n",
      "  np.log(self.startprob_),\n",
      "/Users/Emilie/anaconda/envs/py3.2/lib/python3.6/site-packages/hmmlearn-0.2.0-py3.6-macosx-10.7-x86_64.egg/hmmlearn/base.py:460: RuntimeWarning: divide by zero encountered in log\n",
      "  np.log(self.transmat_),\n",
      "/Users/Emilie/anaconda/envs/py3.2/lib/python3.6/site-packages/hmmlearn-0.2.0-py3.6-macosx-10.7-x86_64.egg/hmmlearn/base.py:469: RuntimeWarning: divide by zero encountered in log\n",
      "  np.log(self.transmat_),\n",
      "/Users/Emilie/anaconda/envs/py3.2/lib/python3.6/site-packages/hmmlearn-0.2.0-py3.6-macosx-10.7-x86_64.egg/hmmlearn/base.py:624: RuntimeWarning: divide by zero encountered in log\n",
      "  np.log(self.transmat_),\n"
     ]
    }
   ],
   "source": [
    "np.random.seed(0)\n",
    "\n",
    "# Train a Gaussian HMM for each word\n",
    "models=[]\n",
    "for word in words:\n",
    "    idx = word_idx(labels,word)\n",
    "    x_train,seqlenght_train,x_test,seqlenght_test = getTrainTestSets(features,idx)\n",
    "    ll,model = fitGaussianHMM(x_train,seqlenght_train,x_test,seqlenght_test,4)\n",
    "    models=np.append(models,model)\n",
    "\n",
    "# Log likelihood matrix\n",
    "lls=np.zeros((105,7)) \n",
    "\n",
    "# Get log likelihood for every word in data set\n",
    "for i in range(7):\n",
    "    m=models[i]\n",
    "    for j in range(105):            \n",
    "        x=features[j].T\n",
    "        lls[j,i]=np.round(m.score(x))\n",
    "\n",
    "\n",
    "# Get label with highest log likelihood\n",
    "def getlabels(lls,words):\n",
    "    n,k = lls.shape\n",
    "    label_pred = []\n",
    "    j=1\n",
    "    for i in range(n):\n",
    "        aux=np.nonzero(lls[i,:]==lls[i,:].max())\n",
    "        label_pred.append(words[int(aux[0][0])])\n",
    "        \n",
    "    label_pred = np.asarray(label_pred)\n",
    "    return label_pred\n",
    "\n",
    "label_pred = getlabels(lls,words)"
   ]
  },
  {
   "cell_type": "code",
   "execution_count": 13,
   "metadata": {
    "collapsed": false
   },
   "outputs": [
    {
     "name": "stdout",
     "output_type": "stream",
     "text": [
      "Classification report:\n",
      "             precision    recall  f1-score   support\n",
      "\n",
      "      apple       1.00      1.00      1.00        15\n",
      "     banana       1.00      1.00      1.00        15\n",
      "       kiwi       1.00      0.93      0.97        15\n",
      "       lime       1.00      0.80      0.89        15\n",
      "     orange       1.00      1.00      1.00        15\n",
      "      peach       0.94      1.00      0.97        15\n",
      "  pineapple       0.83      1.00      0.91        15\n",
      "\n",
      "avg / total       0.97      0.96      0.96       105\n",
      "\n",
      "\n",
      "Confusion matrix:\n",
      " [[15  0  0  0  0  0  0]\n",
      " [ 0 15  0  0  0  0  0]\n",
      " [ 0  0 14  0  0  1  0]\n",
      " [ 0  0  0 12  0  0  3]\n",
      " [ 0  0  0  0 15  0  0]\n",
      " [ 0  0  0  0  0 15  0]\n",
      " [ 0  0  0  0  0  0 15]]\n",
      "\n",
      "Classification error: 3.81 percent\n"
     ]
    }
   ],
   "source": [
    "# Classification report\n",
    "print('Classification report:')\n",
    "print(classification_report(labels, label_pred))\n",
    "\n",
    "# Confusion matrix\n",
    "cm = confusion_matrix(labels,label_pred)\n",
    "print('\\nConfusion matrix:\\n',cm)\n",
    "\n",
    "# Classification error\n",
    "missed = (label_pred != labels)\n",
    "print('\\nClassification error: %.2f percent' % (100 * (np.mean(missed))))"
   ]
  },
  {
   "cell_type": "markdown",
   "metadata": {},
   "source": [
    "Use LOO onto the train instances to select the number of hidden states. Try values from 1 to 5."
   ]
  },
  {
   "cell_type": "code",
   "execution_count": 14,
   "metadata": {
    "collapsed": true
   },
   "outputs": [],
   "source": [
    "from sklearn.model_selection import KFold\n",
    "\n",
    "# Concatenate the elements of X\n",
    "def concatenateFeatureMatrix(X):\n",
    "    seqlenght = np.empty(len(X),dtype=np.int)\n",
    "    sequences = np.empty([0,6])\n",
    "    for i in range(X.shape[0]):\n",
    "        sequences = np.append(sequences,np.transpose(X[i]),axis=0)\n",
    "        seqlenght[i] = int(X[i].shape[1])\n",
    "    return sequences,seqlenght\n",
    "\n",
    "# Use LOO to get log likelihood for a certain number of hidden states\n",
    "def getLLForHiddenState(X,hidden_states):\n",
    "    models=[]\n",
    "    ll=[] \n",
    "    kf = KFold(n_splits=15)\n",
    "    for train_index, test_index in kf.split(X):\n",
    "        sequences,seqlenght = concatenateFeatureMatrix(X[train_index]) # Concatenate the elements in the train set\n",
    "        model = GaussianHMM(n_components=hidden_states,covariance_type='full',n_iter=100).fit(\n",
    "        sequences,lengths=seqlenght) # Fit the Gaussian HMM for a given number of hidden states\n",
    "        ll=np.append(ll,model.score(X[test_index][0].T))\n",
    "    return ll.mean() # Get the average log likelihood value"
   ]
  },
  {
   "cell_type": "code",
   "execution_count": 15,
   "metadata": {
    "collapsed": false
   },
   "outputs": [
    {
     "name": "stderr",
     "output_type": "stream",
     "text": [
      "/Users/Emilie/anaconda/envs/py3.2/lib/python3.6/site-packages/sklearn/utils/deprecation.py:70: DeprecationWarning: Function distribute_covar_matrix_to_match_covariance_type is deprecated; The functon distribute_covar_matrix_to_match_covariance_typeis deprecated in 0.18 and will be removed in 0.20.\n",
      "  warnings.warn(msg, category=DeprecationWarning)\n",
      "/Users/Emilie/anaconda/envs/py3.2/lib/python3.6/site-packages/sklearn/utils/deprecation.py:70: DeprecationWarning: Function log_multivariate_normal_density is deprecated; The function log_multivariate_normal_density is deprecated in 0.18 and will be removed in 0.20.\n",
      "  warnings.warn(msg, category=DeprecationWarning)\n",
      "/Users/Emilie/anaconda/envs/py3.2/lib/python3.6/site-packages/hmmlearn-0.2.0-py3.6-macosx-10.7-x86_64.egg/hmmlearn/base.py:459: RuntimeWarning: divide by zero encountered in log\n",
      "  np.log(self.startprob_),\n",
      "/Users/Emilie/anaconda/envs/py3.2/lib/python3.6/site-packages/hmmlearn-0.2.0-py3.6-macosx-10.7-x86_64.egg/hmmlearn/base.py:468: RuntimeWarning: divide by zero encountered in log\n",
      "  np.log(self.startprob_),\n"
     ]
    },
    {
     "name": "stdout",
     "output_type": "stream",
     "text": [
      "The optimal number of hidden states for banana is 5\n",
      "The optimal number of hidden states for kiwi is 4\n",
      "The optimal number of hidden states for peach is 5\n",
      "The optimal number of hidden states for apple is 5\n",
      "The optimal number of hidden states for pineapple is 4\n",
      "The optimal number of hidden states for lime is 5\n"
     ]
    },
    {
     "name": "stderr",
     "output_type": "stream",
     "text": [
      "/Users/Emilie/anaconda/envs/py3.2/lib/python3.6/site-packages/hmmlearn-0.2.0-py3.6-macosx-10.7-x86_64.egg/hmmlearn/base.py:460: RuntimeWarning: divide by zero encountered in log\n",
      "  np.log(self.transmat_),\n",
      "/Users/Emilie/anaconda/envs/py3.2/lib/python3.6/site-packages/hmmlearn-0.2.0-py3.6-macosx-10.7-x86_64.egg/hmmlearn/base.py:469: RuntimeWarning: divide by zero encountered in log\n",
      "  np.log(self.transmat_),\n",
      "/Users/Emilie/anaconda/envs/py3.2/lib/python3.6/site-packages/hmmlearn-0.2.0-py3.6-macosx-10.7-x86_64.egg/hmmlearn/base.py:624: RuntimeWarning: divide by zero encountered in log\n",
      "  np.log(self.transmat_),\n"
     ]
    },
    {
     "name": "stdout",
     "output_type": "stream",
     "text": [
      "The optimal number of hidden states for orange is 5\n"
     ]
    }
   ],
   "source": [
    "# Get the optimal number of hidden states for each HMM\n",
    "for word in words:\n",
    "    idx=word_idx(labels,word)\n",
    "    X=features[idx]\n",
    "    lls=[]\n",
    "    hidden_states=[1,2,3,4,5]\n",
    "    for hs in hidden_states:\n",
    "        ll=getLLForHiddenState(X,hs)\n",
    "        lls.append(ll)\n",
    "    opt_hs=hidden_states[np.argmax(lls)]\n",
    "    print('The optimal number of hidden states for {} is {}'.format(word,opt_hs))"
   ]
  }
 ],
 "metadata": {
  "anaconda-cloud": {},
  "kernelspec": {
   "display_name": "Python [conda env:py3.2]",
   "language": "python",
   "name": "conda-env-py3.2-py"
  },
  "language_info": {
   "codemirror_mode": {
    "name": "ipython",
    "version": 3
   },
   "file_extension": ".py",
   "mimetype": "text/x-python",
   "name": "python",
   "nbconvert_exporter": "python",
   "pygments_lexer": "ipython3",
   "version": "3.6.0"
  }
 },
 "nbformat": 4,
 "nbformat_minor": 0
}
