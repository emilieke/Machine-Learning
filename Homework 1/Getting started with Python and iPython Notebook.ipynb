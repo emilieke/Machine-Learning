{
 "cells": [
  {
   "cell_type": "markdown",
   "metadata": {},
   "source": [
    "# Machine Learning\n",
    "\n",
    "## Session #1-1: Getting started with Python and iPython Notebook\n",
    "\n"
   ]
  },
  {
   "cell_type": "markdown",
   "metadata": {
    "collapsed": true
   },
   "source": [
    "## Creating integers"
   ]
  },
  {
   "cell_type": "code",
   "execution_count": 1,
   "metadata": {
    "collapsed": false
   },
   "outputs": [
    {
     "data": {
      "text/plain": [
       "int"
      ]
     },
     "execution_count": 1,
     "metadata": {},
     "output_type": "execute_result"
    }
   ],
   "source": [
    "i = 5\n",
    "type(i)"
   ]
  },
  {
   "cell_type": "code",
   "execution_count": 2,
   "metadata": {
    "collapsed": false
   },
   "outputs": [
    {
     "data": {
      "text/plain": [
       "int"
      ]
     },
     "execution_count": 2,
     "metadata": {},
     "output_type": "execute_result"
    }
   ],
   "source": [
    "b=i/2\n",
    "b\n",
    "type(b)"
   ]
  },
  {
   "cell_type": "code",
   "execution_count": 3,
   "metadata": {
    "collapsed": false
   },
   "outputs": [
    {
     "data": {
      "text/plain": [
       "1267650600228229401496703205376L"
      ]
     },
     "execution_count": 3,
     "metadata": {},
     "output_type": "execute_result"
    }
   ],
   "source": [
    "2**100"
   ]
  },
  {
   "cell_type": "code",
   "execution_count": 4,
   "metadata": {
    "collapsed": false
   },
   "outputs": [
    {
     "data": {
      "text/plain": [
       "30103"
      ]
     },
     "execution_count": 4,
     "metadata": {},
     "output_type": "execute_result"
    }
   ],
   "source": [
    "len(str(2**100000)) #how many difits in a really BIG number"
   ]
  },
  {
   "cell_type": "markdown",
   "metadata": {},
   "source": [
    "## Creating Floating Points\n",
    "\n",
    "* Truncating floating numbers"
   ]
  },
  {
   "cell_type": "code",
   "execution_count": 5,
   "metadata": {
    "collapsed": false
   },
   "outputs": [
    {
     "data": {
      "text/plain": [
       "1.0"
      ]
     },
     "execution_count": 5,
     "metadata": {},
     "output_type": "execute_result"
    }
   ],
   "source": [
    "f = 1.\n",
    "f"
   ]
  },
  {
   "cell_type": "code",
   "execution_count": 6,
   "metadata": {
    "collapsed": false
   },
   "outputs": [
    {
     "data": {
      "text/plain": [
       "1234"
      ]
     },
     "execution_count": 6,
     "metadata": {},
     "output_type": "execute_result"
    }
   ],
   "source": [
    "f = 1234.56\n",
    "int(f)"
   ]
  },
  {
   "cell_type": "code",
   "execution_count": 7,
   "metadata": {
    "collapsed": false
   },
   "outputs": [
    {
     "data": {
      "text/plain": [
       "1235.0"
      ]
     },
     "execution_count": 7,
     "metadata": {},
     "output_type": "execute_result"
    }
   ],
   "source": [
    "round(f)"
   ]
  },
  {
   "cell_type": "code",
   "execution_count": 8,
   "metadata": {
    "collapsed": false
   },
   "outputs": [
    {
     "data": {
      "text/plain": [
       "3.141592653589793"
      ]
     },
     "execution_count": 8,
     "metadata": {},
     "output_type": "execute_result"
    }
   ],
   "source": [
    "import math\n",
    "math.pi"
   ]
  },
  {
   "cell_type": "markdown",
   "metadata": {},
   "source": [
    "## Creating string variables\n",
    "\n",
    "* Strings in Python can be simple or double quotes\n",
    "* Concatenating strings"
   ]
  },
  {
   "cell_type": "code",
   "execution_count": 9,
   "metadata": {
    "collapsed": false
   },
   "outputs": [
    {
     "name": "stdout",
     "output_type": "stream",
     "text": [
      "Hello world\n"
     ]
    }
   ],
   "source": [
    "s=\"Hello \" + \"world\"\n",
    "print(s)"
   ]
  },
  {
   "cell_type": "code",
   "execution_count": 10,
   "metadata": {
    "collapsed": false
   },
   "outputs": [
    {
     "name": "stdout",
     "output_type": "stream",
     "text": [
      "Hello world\n"
     ]
    }
   ],
   "source": [
    "s='Hello ' + 'world'\n",
    "print(s)"
   ]
  },
  {
   "cell_type": "code",
   "execution_count": 11,
   "metadata": {
    "collapsed": true
   },
   "outputs": [],
   "source": [
    "s='spam'"
   ]
  },
  {
   "cell_type": "code",
   "execution_count": 12,
   "metadata": {
    "collapsed": false
   },
   "outputs": [
    {
     "data": {
      "text/plain": [
       "4"
      ]
     },
     "execution_count": 12,
     "metadata": {},
     "output_type": "execute_result"
    }
   ],
   "source": [
    "len(s)"
   ]
  },
  {
   "cell_type": "code",
   "execution_count": 13,
   "metadata": {
    "collapsed": false
   },
   "outputs": [
    {
     "name": "stdout",
     "output_type": "stream",
     "text": [
      "('s', 'm')\n"
     ]
    }
   ],
   "source": [
    "print(s[0],s[-1])"
   ]
  },
  {
   "cell_type": "code",
   "execution_count": 4,
   "metadata": {
    "collapsed": false
   },
   "outputs": [],
   "source": [
    "#dir(s) # getting help"
   ]
  },
  {
   "cell_type": "markdown",
   "metadata": {},
   "source": [
    "## Lists\n",
    "\n",
    "\n",
    "* Lists are what they seem - a list of values. Each one of them is numbered, starting from zero\n",
    "\n"
   ]
  },
  {
   "cell_type": "code",
   "execution_count": 14,
   "metadata": {
    "collapsed": false
   },
   "outputs": [
    {
     "name": "stdout",
     "output_type": "stream",
     "text": [
      "word4\n"
     ]
    }
   ],
   "source": [
    "l=['word1','word2','word3','word4','word5']\n",
    "print(l[3])"
   ]
  },
  {
   "cell_type": "code",
   "execution_count": 15,
   "metadata": {
    "collapsed": false
   },
   "outputs": [
    {
     "data": {
      "text/plain": [
       "['word1', 'word2', 'word3', 'word4', 'word5', 'word6']"
      ]
     },
     "execution_count": 15,
     "metadata": {},
     "output_type": "execute_result"
    }
   ],
   "source": [
    "l.append('word6')\n",
    "l"
   ]
  },
  {
   "cell_type": "code",
   "execution_count": 16,
   "metadata": {
    "collapsed": false
   },
   "outputs": [
    {
     "data": {
      "text/plain": [
       "3"
      ]
     },
     "execution_count": 16,
     "metadata": {},
     "output_type": "execute_result"
    }
   ],
   "source": [
    "l=[123, 'spam', 1.23]\n",
    "len(l)"
   ]
  },
  {
   "cell_type": "code",
   "execution_count": 17,
   "metadata": {
    "collapsed": false
   },
   "outputs": [
    {
     "name": "stdout",
     "output_type": "stream",
     "text": [
      "('the first element of l is:', 123)\n"
     ]
    }
   ],
   "source": [
    "print('the first element of l is:',l[0])"
   ]
  },
  {
   "cell_type": "code",
   "execution_count": 18,
   "metadata": {
    "collapsed": false
   },
   "outputs": [
    {
     "name": "stdout",
     "output_type": "stream",
     "text": [
      "('the first 2 elements are:', [123, 'spam'])\n"
     ]
    }
   ],
   "source": [
    "print('the first 2 elements are:',l[:-1])"
   ]
  },
  {
   "cell_type": "code",
   "execution_count": null,
   "metadata": {
    "collapsed": true
   },
   "outputs": [],
   "source": []
  },
  {
   "cell_type": "markdown",
   "metadata": {},
   "source": [
    "## Dictionaries\n",
    "\n",
    "* Dictionaries are similar to what their name suggests - a dictionary. In a dictionary, you have an 'index' of words, and for each of them a definition. In python, the word is called a 'key', and the definition a 'value'."
   ]
  },
  {
   "cell_type": "code",
   "execution_count": 19,
   "metadata": {
    "collapsed": true
   },
   "outputs": [],
   "source": [
    "#Make the phone book:\n",
    "d = {'Antonio':8806336, \\\n",
    "'Eva':6784346, 'Alex':7658344, \\\n",
    "'Pedro':1122345}"
   ]
  },
  {
   "cell_type": "code",
   "execution_count": 20,
   "metadata": {
    "collapsed": false
   },
   "outputs": [
    {
     "data": {
      "text/plain": [
       "{'Alex': 7658344,\n",
       " 'Alicia': 2365872,\n",
       " 'Antonio': 8806336,\n",
       " 'Eva': 6784346,\n",
       " 'Pedro': 1122345}"
      ]
     },
     "execution_count": 20,
     "metadata": {},
     "output_type": "execute_result"
    }
   ],
   "source": [
    "d['Alicia']=2365872\n",
    "d"
   ]
  },
  {
   "cell_type": "code",
   "execution_count": 21,
   "metadata": {
    "collapsed": false
   },
   "outputs": [
    {
     "data": {
      "text/plain": [
       "{'Alex': 7658344, 'Alicia': 2365872, 'Antonio': 8806336, 'Pedro': 1122345}"
      ]
     },
     "execution_count": 21,
     "metadata": {},
     "output_type": "execute_result"
    }
   ],
   "source": [
    "del d['Eva']\n",
    "d"
   ]
  },
  {
   "cell_type": "code",
   "execution_count": 22,
   "metadata": {
    "collapsed": false
   },
   "outputs": [
    {
     "data": {
      "text/plain": [
       "False"
      ]
     },
     "execution_count": 22,
     "metadata": {},
     "output_type": "execute_result"
    }
   ],
   "source": [
    "'Eva' in d"
   ]
  },
  {
   "cell_type": "markdown",
   "metadata": {},
   "source": [
    "## Working with random numbers"
   ]
  },
  {
   "cell_type": "code",
   "execution_count": 23,
   "metadata": {
    "collapsed": false
   },
   "outputs": [
    {
     "data": {
      "text/plain": [
       "0.825645115811335"
      ]
     },
     "execution_count": 23,
     "metadata": {},
     "output_type": "execute_result"
    }
   ],
   "source": [
    "# getting the next random number\n",
    "import numpy as np\n",
    "np.random.random()"
   ]
  },
  {
   "cell_type": "code",
   "execution_count": 19,
   "metadata": {
    "collapsed": false
   },
   "outputs": [],
   "source": [
    "#np?  #get help"
   ]
  },
  {
   "cell_type": "code",
   "execution_count": 24,
   "metadata": {
    "collapsed": false
   },
   "outputs": [
    {
     "name": "stdout",
     "output_type": "stream",
     "text": [
      "London\n"
     ]
    }
   ],
   "source": [
    "# Picking a random element from a list: making a random choice\n",
    "from random import choice\n",
    "possible_destinations = [\"Berlin\", \"Madrid\", \n",
    "                         \"Amsterdam\", \"London\", \"Paris\", \n",
    "                         \"Zurich\", \"Heidelberg\", \"Strasbourg\", \n",
    "                         \"Augsburg\", \"Milan\", \"Rome\"]\n",
    "print(choice(possible_destinations))"
   ]
  },
  {
   "cell_type": "code",
   "execution_count": 30,
   "metadata": {
    "collapsed": false
   },
   "outputs": [
    {
     "name": "stdout",
     "output_type": "stream",
     "text": [
      "[[ 1.76405235  0.40015721]\n",
      " [ 0.97873798  2.2408932 ]\n",
      " [ 1.86755799 -0.97727788]\n",
      " [ 0.95008842 -0.15135721]\n",
      " [-0.10321885  0.4105985 ]\n",
      " [ 0.14404357  1.45427351]\n",
      " [ 0.76103773  0.12167502]\n",
      " [ 0.44386323  0.33367433]\n",
      " [ 1.49407907 -0.20515826]\n",
      " [ 0.3130677  -0.85409574]\n",
      " [-2.55298982  0.6536186 ]\n",
      " [ 0.8644362  -0.74216502]\n",
      " [ 2.26975462 -1.45436567]\n",
      " [ 0.04575852 -0.18718385]\n",
      " [ 1.53277921  1.46935877]\n",
      " [ 0.15494743  0.37816252]\n",
      " [-0.88778575 -1.98079647]\n",
      " [-0.34791215  0.15634897]\n",
      " [ 1.23029068  1.20237985]\n",
      " [-0.38732682 -0.30230275]\n",
      " [-1.04855297 -1.42001794]\n",
      " [-1.70627019  1.9507754 ]\n",
      " [-0.50965218 -0.4380743 ]\n",
      " [-1.25279536  0.77749036]\n",
      " [-1.61389785 -0.21274028]\n",
      " [-0.89546656  0.3869025 ]\n",
      " [-0.51080514 -1.18063218]\n",
      " [-0.02818223  0.42833187]\n",
      " [ 0.06651722  0.3024719 ]\n",
      " [-0.63432209 -0.36274117]\n",
      " [-0.67246045 -0.35955316]\n",
      " [-0.81314628 -1.7262826 ]\n",
      " [ 0.17742614 -0.40178094]\n",
      " [-1.63019835  0.46278226]\n",
      " [-0.90729836  0.0519454 ]\n",
      " [ 0.72909056  0.12898291]\n",
      " [ 1.13940068 -1.23482582]\n",
      " [ 0.40234164 -0.68481009]\n",
      " [-0.87079715 -0.57884966]\n",
      " [-0.31155253  0.05616534]\n",
      " [-1.16514984  0.90082649]\n",
      " [ 0.46566244 -1.53624369]\n",
      " [ 1.48825219  1.89588918]\n",
      " [ 1.17877957 -0.17992484]\n",
      " [-1.07075262  1.05445173]\n",
      " [-0.40317695  1.22244507]\n",
      " [ 0.20827498  0.97663904]\n",
      " [ 0.3563664   0.70657317]\n",
      " [ 0.01050002  1.78587049]\n",
      " [ 0.12691209  0.40198936]\n",
      " [ 1.8831507  -1.34775906]\n",
      " [-1.270485    0.96939671]\n",
      " [-1.17312341  1.94362119]\n",
      " [-0.41361898 -0.74745481]\n",
      " [ 1.92294203  1.48051479]\n",
      " [ 1.86755896  0.90604466]\n",
      " [-0.86122569  1.91006495]\n",
      " [-0.26800337  0.8024564 ]\n",
      " [ 0.94725197 -0.15501009]\n",
      " [ 0.61407937  0.92220667]\n",
      " [ 0.37642553 -1.09940079]\n",
      " [ 0.29823817  1.3263859 ]\n",
      " [-0.69456786 -0.14963454]\n",
      " [-0.43515355  1.84926373]\n",
      " [ 0.67229476  0.40746184]\n",
      " [-0.76991607  0.53924919]\n",
      " [-0.67433266  0.03183056]\n",
      " [-0.63584608  0.67643329]\n",
      " [ 0.57659082 -0.20829876]\n",
      " [ 0.39600671 -1.09306151]\n",
      " [-1.49125759  0.4393917 ]\n",
      " [ 0.1666735   0.63503144]\n",
      " [ 2.38314477  0.94447949]\n",
      " [-0.91282223  1.11701629]\n",
      " [-1.31590741 -0.4615846 ]\n",
      " [-0.06824161  1.71334272]\n",
      " [-0.74475482 -0.82643854]\n",
      " [-0.09845252 -0.66347829]\n",
      " [ 1.12663592 -1.07993151]\n",
      " [-1.14746865 -0.43782004]\n",
      " [-0.49803245  1.92953205]\n",
      " [ 0.94942081  0.08755124]\n",
      " [-1.22543552  0.84436298]\n",
      " [-1.00021535 -1.5447711 ]\n",
      " [ 1.18802979  0.31694261]\n",
      " [ 0.92085882  0.31872765]\n",
      " [ 0.85683061 -0.65102559]\n",
      " [-1.03424284  0.68159452]\n",
      " [-0.80340966 -0.68954978]\n",
      " [-0.4555325   0.01747916]\n",
      " [-0.35399391 -1.37495129]\n",
      " [-0.6436184  -2.22340315]\n",
      " [ 0.62523145 -1.60205766]\n",
      " [-1.10438334  0.05216508]\n",
      " [-0.739563    1.5430146 ]\n",
      " [-1.29285691  0.26705087]\n",
      " [-0.03928282 -1.1680935 ]\n",
      " [ 0.52327666 -0.17154633]\n",
      " [ 0.77179055  0.82350415]\n",
      " [ 2.16323595  1.33652795]\n",
      " [-0.36918184 -0.23937918]\n",
      " [ 1.0996596   0.65526373]\n",
      " [ 0.64013153 -1.61695604]\n",
      " [-0.02432612 -0.73803091]\n",
      " [ 0.2799246  -0.09815039]\n",
      " [ 0.91017891  0.31721822]\n",
      " [ 0.78632796 -0.4664191 ]\n",
      " [-0.94444626 -0.41004969]\n",
      " [-0.01702041  0.37915174]\n",
      " [ 2.25930895 -0.04225715]\n",
      " [-0.955945   -0.34598178]\n",
      " [-0.46359597  0.48148147]\n",
      " [-1.54079701  0.06326199]\n",
      " [ 0.15650654  0.23218104]\n",
      " [-0.59731607 -0.23792173]\n",
      " [-1.42406091 -0.49331988]\n",
      " [-0.54286148  0.41605005]\n",
      " [-1.15618243  0.7811981 ]\n",
      " [ 1.49448454 -2.06998503]\n",
      " [ 0.42625873  0.67690804]\n",
      " [-0.63743703 -0.39727181]\n",
      " [-0.13288058 -0.29779088]\n",
      " [-0.30901297 -1.67600381]\n",
      " [ 1.15233156  1.07961859]\n",
      " [-0.81336426 -1.46642433]\n",
      " [ 0.52106488 -0.57578797]\n",
      " [ 0.14195316 -0.31932842]\n",
      " [ 0.69153875  0.69474914]\n",
      " [-0.72559738 -1.38336396]\n",
      " [-1.5829384   0.61037938]\n",
      " [-1.18885926 -0.50681635]\n",
      " [-0.59631404 -0.0525673 ]\n",
      " [-1.93627981  0.1887786 ]\n",
      " [ 0.52389102  0.08842209]\n",
      " [-0.31088617  0.09740017]\n",
      " [ 0.39904635 -2.77259276]\n",
      " [ 1.95591231  0.39009332]\n",
      " [-0.65240858 -0.39095338]\n",
      " [ 0.49374178 -0.11610394]\n",
      " [-2.03068447  2.06449286]\n",
      " [-0.11054066  1.02017271]\n",
      " [-0.69204985  1.53637705]\n",
      " [ 0.28634369  0.60884383]\n",
      " [-1.04525337  1.21114529]\n",
      " [ 0.68981816  1.30184623]\n",
      " [-0.62808756 -0.48102712]\n",
      " [ 2.3039167  -1.06001582]\n",
      " [-0.1359497   1.13689136]\n",
      " [ 0.09772497  0.58295368]\n",
      " [-0.39944903  0.37005589]\n",
      " [-1.30652685  1.65813068]\n",
      " [-0.11816405 -0.6801782 ]\n",
      " [ 0.66638308 -0.46071979]\n",
      " [-1.33425847 -1.34671751]\n",
      " [ 0.69377315 -0.15957344]\n",
      " [-0.13370156  1.07774381]\n",
      " [-1.12682581 -0.73067775]\n",
      " [-0.38487981  0.09435159]\n",
      " [-0.04217145 -0.28688719]\n",
      " [-0.0616264  -0.10730528]\n",
      " [-0.71960439 -0.81299299]\n",
      " [ 0.27451636 -0.89091508]\n",
      " [-1.15735526 -0.31229225]\n",
      " [-0.15766702  2.2567235 ]\n",
      " [-0.70470028  0.94326072]\n",
      " [ 0.74718833 -1.18894496]\n",
      " [ 0.77325298 -1.18388064]\n",
      " [-2.65917224  0.60631952]\n",
      " [-1.75589058  0.45093446]\n",
      " [-0.6840109   1.6595508 ]\n",
      " [ 1.0685094  -0.4533858 ]\n",
      " [-0.68783761 -1.2140774 ]\n",
      " [-0.44092263 -0.2803555 ]\n",
      " [-0.36469354  0.15670386]\n",
      " [ 0.5785215   0.34965446]\n",
      " [-0.76414392 -1.43779147]\n",
      " [ 1.36453185 -0.68944918]\n",
      " [-0.6522936  -0.52118931]\n",
      " [-1.84306955 -0.477974  ]\n",
      " [-0.47965581  0.6203583 ]\n",
      " [ 0.69845715  0.00377089]\n",
      " [ 0.93184837  0.33996498]\n",
      " [-0.01568211  0.16092817]\n",
      " [-0.19065349 -0.39484951]\n",
      " [-0.26773354 -1.12801133]\n",
      " [ 0.28044171 -0.99312361]\n",
      " [ 0.84163126 -0.24945858]\n",
      " [ 0.04949498  0.49383678]\n",
      " [ 0.64331447 -1.57062341]\n",
      " [-0.20690368  0.88017891]\n",
      " [-1.69810582  0.38728048]\n",
      " [-2.25556423 -1.02250684]\n",
      " [ 0.03863055 -1.6567151 ]\n",
      " [-0.98551074 -1.47183501]\n",
      " [ 1.64813493  0.16422776]\n",
      " [ 0.56729028 -0.2226751 ]\n",
      " [-0.35343175 -1.61647419]\n",
      " [-0.29183736 -0.76149221]\n",
      " [ 0.85792392  1.14110187]\n",
      " [ 1.46657872  0.85255194]]\n"
     ]
    }
   ],
   "source": [
    "rng = np.random.RandomState(0)\n",
    "X = rng.randn(200, 2)\n",
    "\n",
    "X.shape"
   ]
  },
  {
   "cell_type": "markdown",
   "metadata": {},
   "source": [
    "## Conditional statements"
   ]
  },
  {
   "cell_type": "code",
   "execution_count": 26,
   "metadata": {
    "collapsed": false
   },
   "outputs": [
    {
     "name": "stdout",
     "output_type": "stream",
     "text": [
      "('The absolute value of', -5, 'is', 5)\n"
     ]
    }
   ],
   "source": [
    "# Here is a short program to compute the absolute value of a number:\n",
    "\n",
    "def absoluteValue(n):\n",
    "    n = int(n)\n",
    "    if n < 0:\n",
    "        print (\"The absolute value of\",n,\"is\",-n)        \n",
    "    else:\n",
    "        print (\"The absolute value of\",n,\"is\",n)\n",
    "    \n",
    "    \n",
    "absoluteValue(-5)\n"
   ]
  },
  {
   "cell_type": "markdown",
   "metadata": {},
   "source": [
    "## Conditional loops"
   ]
  },
  {
   "cell_type": "code",
   "execution_count": 27,
   "metadata": {
    "collapsed": false
   },
   "outputs": [
    {
     "name": "stdout",
     "output_type": "stream",
     "text": [
      "The count is: 0\n",
      "The count is: 1\n",
      "The count is: 2\n",
      "The count is: 3\n",
      "The count is: 4\n",
      "The count is: 5\n",
      "The count is: 6\n",
      "The count is: 7\n",
      "The count is: 8\n"
     ]
    }
   ],
   "source": [
    "count = 0\n",
    "while (count < 9):\n",
    "   print('The count is:'), count\n",
    "   count = count + 1\n",
    "\n",
    "#print(\"Good bye!\")"
   ]
  },
  {
   "cell_type": "code",
   "execution_count": 28,
   "metadata": {
    "collapsed": false
   },
   "outputs": [
    {
     "name": "stdout",
     "output_type": "stream",
     "text": [
      "('Current Letter :', 'P')\n",
      "('Current Letter :', 'y')\n",
      "('Current Letter :', 't')\n",
      "('Current Letter :', 'h')\n",
      "('Current Letter :', 'o')\n",
      "('Current Letter :', 'n')\n"
     ]
    }
   ],
   "source": [
    "for letter in 'Python':     \n",
    "   print('Current Letter :', letter)"
   ]
  },
  {
   "cell_type": "code",
   "execution_count": 29,
   "metadata": {
    "collapsed": false
   },
   "outputs": [
    {
     "name": "stdout",
     "output_type": "stream",
     "text": [
      "('Current parameter :', 100)\n"
     ]
    }
   ],
   "source": [
    "parameters = [1,10,100]\n",
    "for index in range(len(parameters)):\n",
    "    if parameters[index]==100:\n",
    "        print('Current parameter :', parameters[index])"
   ]
  },
  {
   "cell_type": "code",
   "execution_count": null,
   "metadata": {
    "collapsed": true
   },
   "outputs": [],
   "source": []
  }
 ],
 "metadata": {
  "anaconda-cloud": {},
  "kernelspec": {
   "display_name": "Python [conda root]",
   "language": "python",
   "name": "conda-root-py"
  },
  "language_info": {
   "codemirror_mode": {
    "name": "ipython",
    "version": 2
   },
   "file_extension": ".py",
   "mimetype": "text/x-python",
   "name": "python",
   "nbconvert_exporter": "python",
   "pygments_lexer": "ipython2",
   "version": "2.7.12"
  }
 },
 "nbformat": 4,
 "nbformat_minor": 0
}
