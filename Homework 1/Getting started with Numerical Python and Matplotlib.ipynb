{
 "cells": [
  {
   "cell_type": "markdown",
   "metadata": {},
   "source": [
    "# Machine Learning\n",
    "\n",
    "## Session #1-2: Getting started with Numpy and Matplotlib"
   ]
  },
  {
   "cell_type": "markdown",
   "metadata": {},
   "source": [
    "### Creating and manipulating numerical data\n",
    "\n",
    "More information is available in https://docs.scipy.org/doc/numpy-dev/user/quickstart.html\n"
   ]
  },
  {
   "cell_type": "markdown",
   "metadata": {
    "collapsed": true
   },
   "source": [
    "## Creating Arrays\n",
    "\n",
    "\n",
    "* Zero-dimensional Arrays in Numpy\n",
    "* One-dimensional Arrays\n",
    "* Multi-dimensional Arrays"
   ]
  },
  {
   "cell_type": "code",
   "execution_count": 1,
   "metadata": {
    "collapsed": false
   },
   "outputs": [
    {
     "name": "stdout",
     "output_type": "stream",
     "text": [
      "('x: ', array(42))\n",
      "('The type of x: ', dtype('int64'))\n",
      "('The dimension of x:', 0)\n"
     ]
    }
   ],
   "source": [
    "import numpy as np\n",
    "x = np.array(42)\n",
    "print(\"x: \", x)\n",
    "print(\"The type of x: \", x.dtype)\n",
    "print(\"The dimension of x:\", np.ndim(x))"
   ]
  },
  {
   "cell_type": "code",
   "execution_count": 2,
   "metadata": {
    "collapsed": false
   },
   "outputs": [
    {
     "name": "stdout",
     "output_type": "stream",
     "text": [
      "('F: ', array([ 1,  1,  2,  3,  5,  8, 13, 21]))\n",
      "('V: ', array([  3.4,   6.9,  99.8,  12.8]))\n",
      "('Type of F: ', dtype('int64'))\n",
      "('Type of V: ', dtype('float64'))\n",
      "('Dimension of F: ', 1)\n",
      "('Dimension of V: ', 1)\n",
      "(8,)\n"
     ]
    }
   ],
   "source": [
    "F = np.array([1, 1, 2, 3, 5, 8, 13, 21])\n",
    "V = np.array([3.4, 6.9, 99.8, 12.8])\n",
    "print(\"F: \", F)\n",
    "print(\"V: \", V)\n",
    "print(\"Type of F: \", F.dtype)\n",
    "print(\"Type of V: \", V.dtype)\n",
    "print(\"Dimension of F: \", np.ndim(F))\n",
    "print(\"Dimension of V: \", np.ndim(V))\n",
    "print(np.shape(F))"
   ]
  },
  {
   "cell_type": "code",
   "execution_count": 3,
   "metadata": {
    "collapsed": false
   },
   "outputs": [
    {
     "name": "stdout",
     "output_type": "stream",
     "text": [
      "[[  3.4   8.7   9.9]\n",
      " [  1.1  -7.8  -0.7]\n",
      " [  4.1  12.3   4.8]]\n",
      "('Dimension of A: ', 2)\n",
      "(3, 3)\n"
     ]
    }
   ],
   "source": [
    "A = np.array([ [3.4, 8.7, 9.9  ], \n",
    "               [1.1, -7.8, -0.7],\n",
    "               [4.1, 12.3, 4.8 ]])\n",
    "print(A)\n",
    "print(\"Dimension of A: \", np.ndim(A))\n",
    "print(np.shape(A))"
   ]
  },
  {
   "cell_type": "code",
   "execution_count": 4,
   "metadata": {
    "collapsed": false
   },
   "outputs": [
    {
     "name": "stdout",
     "output_type": "stream",
     "text": [
      "[[[111 112]\n",
      "  [121 122]]\n",
      "\n",
      " [[211 212]\n",
      "  [221 222]]\n",
      "\n",
      " [[311 312]\n",
      "  [321 322]]]\n",
      "('Dimension of B: ', 3)\n",
      "(3, 2, 2)\n"
     ]
    }
   ],
   "source": [
    "B = np.array([ [[111, 112], [121, 122]],\n",
    "               [[211, 212], [221, 222]],\n",
    "               [[311, 312], [321, 322]] ])\n",
    "\n",
    "print(B)\n",
    "print(\"Dimension of B: \", np.ndim(B))\n",
    "print(np.shape(B))"
   ]
  },
  {
   "cell_type": "markdown",
   "metadata": {},
   "source": [
    "### Indexing"
   ]
  },
  {
   "cell_type": "code",
   "execution_count": 5,
   "metadata": {
    "collapsed": false
   },
   "outputs": [
    {
     "name": "stdout",
     "output_type": "stream",
     "text": [
      "1\n",
      "21\n"
     ]
    }
   ],
   "source": [
    "F = np.array([1, 1, 2, 3, 5, 8, 13, 21])\n",
    "# print the first element of F, i.e. the element with the index 0\n",
    "print(F[0])\n",
    "# print the last element of F\n",
    "print(F[-1])"
   ]
  },
  {
   "cell_type": "code",
   "execution_count": 6,
   "metadata": {
    "collapsed": false
   },
   "outputs": [
    {
     "name": "stdout",
     "output_type": "stream",
     "text": [
      "[[[111 112]\n",
      "  [121 122]]\n",
      "\n",
      " [[211 212]\n",
      "  [221 222]]\n",
      "\n",
      " [[311 312]\n",
      "  [321 322]]]\n",
      "121\n"
     ]
    }
   ],
   "source": [
    "B = np.array([ [[111, 112], [121, 122]],\n",
    "               [[211, 212], [221, 222]],\n",
    "               [[311, 312], [321, 322]] ])\n",
    "print(B)\n",
    "print(B[0,1,0])"
   ]
  },
  {
   "cell_type": "code",
   "execution_count": 7,
   "metadata": {
    "collapsed": false
   },
   "outputs": [
    {
     "name": "stdout",
     "output_type": "stream",
     "text": [
      "1.1\n"
     ]
    }
   ],
   "source": [
    "A = np.array([ [3.4, 8.7, 9.9], \n",
    "               [1.1, -7.8, -0.7],\n",
    "               [4.1, 12.3, 4.8]])\n",
    "print(A[1,0])"
   ]
  },
  {
   "cell_type": "markdown",
   "metadata": {},
   "source": [
    "### Slicing"
   ]
  },
  {
   "cell_type": "code",
   "execution_count": 8,
   "metadata": {
    "collapsed": false
   },
   "outputs": [
    {
     "name": "stdout",
     "output_type": "stream",
     "text": [
      "[2 3 4]\n",
      "[0 1 2 3]\n",
      "[6 7 8 9]\n",
      "[0 1 2 3 4 5 6 7 8 9]\n"
     ]
    }
   ],
   "source": [
    "S = np.array([0, 1, 2, 3, 4, 5, 6, 7, 8, 9])\n",
    "print(S[2:5])\n",
    "print(S[:4])\n",
    "print(S[6:])\n",
    "print(S[:])"
   ]
  },
  {
   "cell_type": "code",
   "execution_count": 9,
   "metadata": {
    "collapsed": false
   },
   "outputs": [
    {
     "name": "stdout",
     "output_type": "stream",
     "text": [
      "[[11 12 13 14 15]\n",
      " [21 22 23 24 25]\n",
      " [31 32 33 34 35]\n",
      " [41 42 43 44 45]\n",
      " [51 52 53 54 55]]\n"
     ]
    }
   ],
   "source": [
    "A = np.array([\n",
    "[11,12,13,14,15],\n",
    "[21,22,23,24,25],\n",
    "[31,32,33,34,35],\n",
    "[41,42,43,44,45],\n",
    "[51,52,53,54,55]])\n",
    "\n",
    "print(A)"
   ]
  },
  {
   "cell_type": "code",
   "execution_count": 10,
   "metadata": {
    "collapsed": false
   },
   "outputs": [
    {
     "name": "stdout",
     "output_type": "stream",
     "text": [
      "[[13 14 15]\n",
      " [23 24 25]\n",
      " [33 34 35]]\n",
      "[[41 42 43 44 45]\n",
      " [51 52 53 54 55]]\n",
      "[[15]\n",
      " [25]\n",
      " [35]\n",
      " [45]\n",
      " [55]]\n"
     ]
    }
   ],
   "source": [
    "print(A[:3,2:])\n",
    "print(A[3:,:])\n",
    "print(A[:,4:])"
   ]
  },
  {
   "cell_type": "markdown",
   "metadata": {},
   "source": [
    "### Element by element multiplication"
   ]
  },
  {
   "cell_type": "code",
   "execution_count": 11,
   "metadata": {
    "collapsed": false
   },
   "outputs": [
    {
     "data": {
      "text/plain": [
       "array([[ 2,  6],\n",
       "       [15, -5]])"
      ]
     },
     "execution_count": 11,
     "metadata": {},
     "output_type": "execute_result"
    }
   ],
   "source": [
    "x = np.array( ((2,3), (3, 5)) )\n",
    "y = np.array( ((1,2), (5, -1)) )\n",
    "x * y"
   ]
  },
  {
   "cell_type": "markdown",
   "metadata": {},
   "source": [
    "### Matrix multiplication"
   ]
  },
  {
   "cell_type": "code",
   "execution_count": 12,
   "metadata": {
    "collapsed": false
   },
   "outputs": [
    {
     "name": "stdout",
     "output_type": "stream",
     "text": [
      "[[17  1]\n",
      " [28  1]]\n",
      "[[17  1]\n",
      " [28  1]]\n"
     ]
    }
   ],
   "source": [
    "# Matrix multiplication\n",
    "x = np.matrix( ((2,3), (3, 5)) )\n",
    "y = np.matrix( ((1,2), (5, -1)) )\n",
    "print(x * y)\n",
    "\n",
    "# Dot product\n",
    "x = np.array( ((2,3), (3, 5)) )\n",
    "y = np.array( ((1,2), (5, -1)) )\n",
    "print(np.dot(x,y))\n"
   ]
  },
  {
   "cell_type": "markdown",
   "metadata": {},
   "source": [
    "## Matplotlib: creating plots \n",
    "\n",
    "More information is available in http://matplotlib.org/users/pyplot_tutorial.html"
   ]
  },
  {
   "cell_type": "code",
   "execution_count": 13,
   "metadata": {
    "collapsed": false
   },
   "outputs": [
    {
     "name": "stdout",
     "output_type": "stream",
     "text": [
      "[0, 3, 6, 9, 12, 15, 18, 21]\n"
     ]
    },
    {
     "data": {
      "image/png": "[encoded data removed]",
      "text/plain": [
       "<matplotlib.figure.Figure at 0x109b84550>"
      ]
     },
     "metadata": {},
     "output_type": "display_data"
    }
   ],
   "source": [
    "import matplotlib.pyplot as plt\n",
    "# our X values:\n",
    "days = list(range(0, 22, 3))\n",
    "print(days)\n",
    "# our Y values:\n",
    "celsius_values = [25.6, 24.1, 26.7, 28.3, 27.5, 30.5, 32.8, 33.1]\n",
    "plt.plot(days, celsius_values,\"-or\")\n",
    "plt.xlabel('Day')\n",
    "plt.ylabel('Degrees Celsius')\n",
    "plt.show()"
   ]
  },
  {
   "cell_type": "code",
   "execution_count": null,
   "metadata": {
    "collapsed": true
   },
   "outputs": [],
   "source": []
  }
 ],
 "metadata": {
  "anaconda-cloud": {},
  "kernelspec": {
   "display_name": "Python [default]",
   "language": "python",
   "name": "python2"
  },
  "language_info": {
   "codemirror_mode": {
    "name": "ipython",
    "version": 2
   },
   "file_extension": ".py",
   "mimetype": "text/x-python",
   "name": "python",
   "nbconvert_exporter": "python",
   "pygments_lexer": "ipython2",
   "version": "2.7.12"
  }
 },
 "nbformat": 4,
 "nbformat_minor": 0
}
