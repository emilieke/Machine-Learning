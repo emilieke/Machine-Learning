{
 "cells": [
  {
   "cell_type": "markdown",
   "metadata": {},
   "source": [
    "# Homework 2: Emilie Engen, 100356077"
   ]
  },
  {
   "cell_type": "markdown",
   "metadata": {},
   "source": [
    "Author: Abdelmalik Moujahid -- abdelmalik.moujahid@uc3m.es\n",
    "\n",
    "Date: March 1, 2017\n",
    "\n",
    "\n",
    "\n",
    "# Machine Learning\n",
    "\n",
    "## Session #3: Classifying digits with SVM\n",
    "\n",
    "The aim of this session is to solve a real data problem using SVM implementation of scikit-learn. The problem is based on the <a href = https://en.wikipedia.org/wiki/MNIST_database>  MNIST database</a> of handwritten digits that can be loaded from <a href = http://mldata.org> mldata.org</a>.\n",
    "\n"
   ]
  },
  {
   "cell_type": "markdown",
   "metadata": {},
   "source": [
    "## Required packages:\n",
    "\n",
    "    * numy\n",
    "    * matpltlib.pyplot\n",
    "    * sklearn (svm, preprocessing, cross_validation, datasets, metrics)\n",
    "        . mnist = datasets.fetch_mldata('MNIST original', data_home='mnist')\n",
    "        . np.fmod\n",
    "        . preprocessing.scale\n",
    "        . cross_validation.train_test_split\n",
    "    \n",
    "    \n",
    "\n",
    "The iPython Notebook should be sent using the assignment activity module (See Aula Global). The deadline for submitting your reports ends on **March 8**. **The iPython Notebook should indicate your names and your email address**."
   ]
  },
  {
   "cell_type": "markdown",
   "metadata": {},
   "source": [
    "### 1. Loading the MNIST Database and preparing the data\n",
    "\n",
    "* Follow the intructions provided <a href = http://scikit-learn.org/stable/modules/generated/sklearn.datasets.fetch_mldata.html> here</a> to download the MNIST database.\n",
    "* Transform the data into a binary classification problem: even vs. odd digits.\n",
    "* Divide the dataset into train (40,000) and test (30,000) datasets\n",
    "* Check the number of even and odd digits in the training and test sets\n",
    "* Visualize some individual images (Remember that each row of the dataset corresponds to an image)"
   ]
  },
  {
   "cell_type": "markdown",
   "metadata": {},
   "source": [
    "Import required packages"
   ]
  },
  {
   "cell_type": "code",
   "execution_count": 1,
   "metadata": {
    "collapsed": false
   },
   "outputs": [],
   "source": [
    "import numpy as np\n",
    "import matplotlib.pyplot as plt\n",
    "from sklearn import svm, preprocessing, datasets, metrics\n",
    "\n",
    "from sklearn.model_selection import cross_val_score\n",
    "from sklearn.model_selection import GridSearchCV\n",
    "from sklearn.model_selection import train_test_split\n",
    "\n",
    "from sklearn.metrics import classification_report\n",
    "from sklearn.metrics import confusion_matrix\n",
    "from sklearn.metrics import explained_variance_score\n",
    "from sklearn.metrics import mean_squared_error\n",
    "from sklearn.metrics import r2_score\n",
    "from sklearn.metrics import mean_absolute_error"
   ]
  },
  {
   "cell_type": "markdown",
   "metadata": {},
   "source": [
    "Download MNIST database"
   ]
  },
  {
   "cell_type": "code",
   "execution_count": 2,
   "metadata": {
    "collapsed": false
   },
   "outputs": [
    {
     "name": "stdout",
     "output_type": "stream",
     "text": [
      "(70000, 784)\n",
      "(70000,)\n"
     ]
    }
   ],
   "source": [
    "mnist = datasets.fetch_mldata('MNIST original', data_home='mnist')\n",
    "\n",
    "print (mnist.data.shape)\n",
    "print (mnist.target.shape)"
   ]
  },
  {
   "cell_type": "markdown",
   "metadata": {},
   "source": [
    "Transform the data into a binary classification problem (even=0, odd=1)"
   ]
  },
  {
   "cell_type": "code",
   "execution_count": 3,
   "metadata": {
    "collapsed": false
   },
   "outputs": [],
   "source": [
    "# The features, X\n",
    "X = mnist.data\n",
    "\n",
    "# The target, y\n",
    "y = mnist.target\n",
    "\n",
    "# Create binary classification problem\n",
    "y = np.fmod(y,2)"
   ]
  },
  {
   "cell_type": "markdown",
   "metadata": {},
   "source": [
    "Divide the dataset into train (40,000) and test (30,000) datasets"
   ]
  },
  {
   "cell_type": "code",
   "execution_count": 4,
   "metadata": {
    "collapsed": true
   },
   "outputs": [],
   "source": [
    "# Create train and test set\n",
    "X_train, X_test, y_train, y_test = train_test_split(X, y, test_size=3/7, random_state=0)"
   ]
  },
  {
   "cell_type": "markdown",
   "metadata": {},
   "source": [
    "Check the number of even and odd digits in the training and test sets"
   ]
  },
  {
   "cell_type": "code",
   "execution_count": 5,
   "metadata": {
    "collapsed": false
   },
   "outputs": [
    {
     "name": "stdout",
     "output_type": "stream",
     "text": [
      "Number of odd numbers in train set: 20328\n",
      "Number of odd numbers in test set: 15254\n",
      "\n",
      "Number of even numbers in train set: 19672\n",
      "Number of even numbers in test set: 14746\n"
     ]
    }
   ],
   "source": [
    "# Total number of observations in train and test set\n",
    "total_train = len(y_train)\n",
    "total_test = len(y_test)\n",
    "\n",
    "# Number of odd numbers in train and test set\n",
    "odd_count_train = np.sum(y_train)\n",
    "odd_count_test = np.sum(y_test)\n",
    "\n",
    "# Number of even numbers in train and test set\n",
    "even_count_train = total_train-odd_count_train\n",
    "even_count_test = total_test-odd_count_test\n",
    "\n",
    "print ('Number of odd numbers in train set: %.0f' %odd_count_train)\n",
    "print ('Number of odd numbers in test set: %.0f' %odd_count_test)\n",
    "\n",
    "print ('\\nNumber of even numbers in train set: %.0f' %even_count_train)\n",
    "print ('Number of even numbers in test set: %.0f' %even_count_test)"
   ]
  },
  {
   "cell_type": "markdown",
   "metadata": {},
   "source": [
    "Visualize some individual images (Remember that each row of the dataset corresponds to an image)"
   ]
  },
  {
   "cell_type": "code",
   "execution_count": 6,
   "metadata": {
    "collapsed": false
   },
   "outputs": [
    {
     "data": {
      "image/png": "[encoded data removed]",
      "text/plain": [
       "<matplotlib.figure.Figure at 0x116e3c2e8>"
      ]
     },
     "metadata": {},
     "output_type": "display_data"
    }
   ],
   "source": [
    "# Set figure size\n",
    "plt.figure(figsize=(15, 7))\n",
    "\n",
    "number = 0\n",
    "\n",
    "# Plot all numbers from 0 to 9\n",
    "for i in range(0,len(y)):\n",
    "    if (mnist.target[i]==number and number<10):\n",
    "        # Reshape the array into 2-dimensional array\n",
    "        image = X[i].reshape((28, 28))\n",
    "\n",
    "        # Plot\n",
    "        plt.subplot(2,5,number+1)\n",
    "        plt.title('Label is %.0f' % mnist.target[i])\n",
    "        plt.imshow(image, cmap='gray')\n",
    "        number+=1\n",
    "plt.show()"
   ]
  },
  {
   "cell_type": "markdown",
   "metadata": {},
   "source": [
    "### 2. Training a Gaussian RBF SVC\n",
    "\n",
    "On a randomly selected subset (2000 samples) of the training set, \n",
    "\n",
    "a) Compute the cross-validated metrics of a RBF SVC fitted with the default parameters. The simplest way to use cross-validation is to call the <a href = http://scikit-learn.org/stable/modules/generated/sklearn.model_selection.cross_val_score.html#sklearn.model_selection.cross_val_score > cross_val_score</a> helper function on the estimator and the dataset.  Adopt a 5-fold cross-validation."
   ]
  },
  {
   "cell_type": "code",
   "execution_count": 7,
   "metadata": {
    "collapsed": false
   },
   "outputs": [
    {
     "name": "stdout",
     "output_type": "stream",
     "text": [
      "Accuracy: 0.5355 (+/- 0.0042)\n"
     ]
    }
   ],
   "source": [
    "# Length of X_train\n",
    "n = len(X_train) \n",
    "\n",
    "# Random index\n",
    "i = np.random.randint(n-1, size=2000) \n",
    "\n",
    "# Select random subset of X_train\n",
    "X_train_sub=X_train[i,:]\n",
    "y_train_sub=y_train[i]\n",
    "\n",
    "# Fit the non-linear SVC\n",
    "rbf_svc = svm.SVC(kernel='rbf')\n",
    "rbf_svc.fit(X_train_sub, y_train_sub)\n",
    "\n",
    "# Compute cross-validated metrics on the SVC\n",
    "scores = cross_val_score(rbf_svc, X_train_sub, y_train_sub, cv=5)\n",
    "print (\"Accuracy: %0.4f (+/- %0.4f)\" % (scores.mean(), scores.std() / 2))"
   ]
  },
  {
   "cell_type": "markdown",
   "metadata": {
    "collapsed": true
   },
   "source": [
    "b) Taking into account that standardization of datasets is a common requirement for many machine learning estimators, standardize the dataset along the feature axis and repeat step (a). You should observe a clear improvement of the cross-validation scores."
   ]
  },
  {
   "cell_type": "code",
   "execution_count": 8,
   "metadata": {
    "collapsed": false
   },
   "outputs": [
    {
     "name": "stderr",
     "output_type": "stream",
     "text": [
      "/Users/Emilie/anaconda/envs/py3.2/lib/python3.6/site-packages/sklearn/utils/validation.py:429: DataConversionWarning: Data with input dtype uint8 was converted to float64 by the scale function.\n",
      "  warnings.warn(msg, _DataConversionWarning)\n"
     ]
    },
    {
     "name": "stdout",
     "output_type": "stream",
     "text": [
      "Accuracy: 0.9210 (+/- 0.0077)\n"
     ]
    }
   ],
   "source": [
    "# Standardize X\n",
    "X_train_sub = preprocessing.scale(X_train_sub)\n",
    "\n",
    "# Fit the non-linear SVC\n",
    "rbf_svc = svm.SVC(kernel='rbf')\n",
    "rbf_svc.fit(X_train_sub, y_train_sub)\n",
    "\n",
    "# Compute cross-validated metrics on the SVC\n",
    "scores = cross_val_score(rbf_svc, X_train_sub, y_train_sub, cv=5)\n",
    "print (\"Accuracy: %0.4f (+/- %0.4f)\" % (scores.mean(), scores.std() / 2))"
   ]
  },
  {
   "cell_type": "markdown",
   "metadata": {},
   "source": [
    "c) Based on this preprocessed subset (2000 samples), use the <a href = http://scikit-learn.org/stable/modules/generated/sklearn.model_selection.GridSearchCV.html#sklearn.model_selection.GridSearchCV > GridSearchCV</a>  function to performan an exhaustive search over specified parameters for the RBF SVC. The parameter space is given by values of gamma in the range [10^-3, 10^3], and C in the range [1, 10, 100, 1000]. Adopt a 5-fold cross-validation."
   ]
  },
  {
   "cell_type": "code",
   "execution_count": 10,
   "metadata": {
    "collapsed": false
   },
   "outputs": [
    {
     "data": {
      "text/plain": [
       "GridSearchCV(cv=5, error_score='raise',\n",
       "       estimator=SVC(C=1.0, cache_size=200, class_weight=None, coef0=0.0,\n",
       "  decision_function_shape=None, degree=3, gamma='auto', kernel='rbf',\n",
       "  max_iter=-1, probability=False, random_state=None, shrinking=True,\n",
       "  tol=0.001, verbose=False),\n",
       "       fit_params={}, iid=True, n_jobs=1,\n",
       "       param_grid={'gamma': array([  1.00000e-03,   2.15443e-02,   4.64159e-01,   1.00000e+01]), 'C': [1, 10, 100, 1000]},\n",
       "       pre_dispatch='2*n_jobs', refit=True, return_train_score=True,\n",
       "       scoring=None, verbose=0)"
      ]
     },
     "execution_count": 10,
     "metadata": {},
     "output_type": "execute_result"
    }
   ],
   "source": [
    "# Use gridsearch to investigate different C and gamma parameters\n",
    "\n",
    "# Parameter space for C\n",
    "C_range = [1, 10, 100, 1000]\n",
    "\n",
    "# Parameter space for gamma\n",
    "gamma_range = np.logspace(-3, 1, 4)\n",
    "\n",
    "# GridSearch with 5-fold CV\n",
    "param_grid = dict(gamma=gamma_range, C=C_range)\n",
    "grid = GridSearchCV(svm.SVC(kernel='rbf'), param_grid=param_grid, cv=5)\n",
    "grid.fit(X_train_sub, y_train_sub)"
   ]
  },
  {
   "cell_type": "code",
   "execution_count": 11,
   "metadata": {
    "collapsed": false
   },
   "outputs": [
    {
     "name": "stdout",
     "output_type": "stream",
     "text": [
      "The best parameters are {'C': 100, 'gamma': 0.001} with a score of 0.94\n"
     ]
    }
   ],
   "source": [
    "# Obtain the best parameters\n",
    "print('The best parameters are %s with a score of %0.2f'% (grid.best_params_, grid.best_score_))"
   ]
  },
  {
   "cell_type": "markdown",
   "metadata": {},
   "source": [
    "d) On the whole train data set:\n",
    "* Train a single SVC with the best C and $\\gamma$ obtained in the previous step"
   ]
  },
  {
   "cell_type": "code",
   "execution_count": 12,
   "metadata": {
    "collapsed": false
   },
   "outputs": [
    {
     "name": "stderr",
     "output_type": "stream",
     "text": [
      "/Users/Emilie/anaconda/envs/py3.2/lib/python3.6/site-packages/sklearn/utils/validation.py:429: DataConversionWarning: Data with input dtype uint8 was converted to float64 by the scale function.\n",
      "  warnings.warn(msg, _DataConversionWarning)\n"
     ]
    }
   ],
   "source": [
    "# Random index\n",
    "i = np.random.randint(n-1, size=10000) \n",
    "\n",
    "# Select random subset of X_train\n",
    "X_train_partial=X_train[i,:]\n",
    "y_train_partial=y_train[i]\n",
    "\n",
    "# Standardize the data\n",
    "X_train_partial = preprocessing.scale(X_train_partial)"
   ]
  },
  {
   "cell_type": "code",
   "execution_count": 13,
   "metadata": {
    "collapsed": false
   },
   "outputs": [
    {
     "name": "stderr",
     "output_type": "stream",
     "text": [
      "/Users/Emilie/anaconda/envs/py3.2/lib/python3.6/site-packages/sklearn/utils/validation.py:429: DataConversionWarning: Data with input dtype uint8 was converted to float64 by the scale function.\n",
      "  warnings.warn(msg, _DataConversionWarning)\n"
     ]
    }
   ],
   "source": [
    "# Standardize the data\n",
    "X_train = preprocessing.scale(X_train)\n",
    "X_test = preprocessing.scale(X_test)"
   ]
  },
  {
   "cell_type": "code",
   "execution_count": 14,
   "metadata": {
    "collapsed": false
   },
   "outputs": [
    {
     "data": {
      "text/plain": [
       "SVC(C=100, cache_size=200, class_weight=None, coef0=0.0,\n",
       "  decision_function_shape=None, degree=3, gamma=0.001, kernel='rbf',\n",
       "  max_iter=-1, probability=False, random_state=None, shrinking=True,\n",
       "  tol=0.001, verbose=False)"
      ]
     },
     "execution_count": 14,
     "metadata": {},
     "output_type": "execute_result"
    }
   ],
   "source": [
    "# Fit the non-linear SVC with the best parameters\n",
    "rbf_svc = svm.SVC(kernel='rbf', C=grid.best_params_['C'], gamma=grid.best_params_['gamma'])\n",
    "rbf_svc.fit(X_train_partial, y_train_partial)"
   ]
  },
  {
   "cell_type": "markdown",
   "metadata": {},
   "source": [
    "e) On the test data set:\n",
    "* Evaluate the missclasification rate with the trained classifier. Using Scikit learn \"metrics\" functions give the classification report and the confusion matrix."
   ]
  },
  {
   "cell_type": "code",
   "execution_count": 15,
   "metadata": {
    "collapsed": false
   },
   "outputs": [
    {
     "name": "stdout",
     "output_type": "stream",
     "text": [
      "Error measures:\n",
      "EVS: 0.8624\n",
      "MAE: 0.0344\n",
      "MSE: 0.0344\n",
      "R2: 0.8624\n",
      "Detailed classification report:\n",
      "             precision    recall  f1-score   support\n",
      "\n",
      "        0.0       0.97      0.96      0.96     14746\n",
      "        1.0       0.96      0.97      0.97     15254\n",
      "\n",
      "avg / total       0.97      0.97      0.97     30000\n",
      "\n",
      "Confusion matrix:\n",
      "[[14161   585]\n",
      " [  447 14807]]\n"
     ]
    }
   ],
   "source": [
    "y_pred = rbf_svc.predict(X_test)\n",
    "\n",
    "print ('Error measures:')\n",
    "print (\"EVS: %.4f\" % explained_variance_score(y_test, y_pred))\n",
    "print (\"MAE: %.4f\" % mean_absolute_error(y_test, y_pred))\n",
    "print (\"MSE: %.4f\" % mean_squared_error(y_test, y_pred))\n",
    "print (\"R2: %.4f\" % r2_score(y_test, y_pred))\n",
    "\n",
    "print('Detailed classification report:')\n",
    "print(classification_report(y_test, y_pred))\n",
    "\n",
    "print('Confusion matrix:')\n",
    "print(confusion_matrix(y_test, y_pred))"
   ]
  },
  {
   "cell_type": "markdown",
   "metadata": {},
   "source": [
    "### 3. Training a Polynomial SVC\n",
    "\n",
    "From Section 2, the dataset has been standardized over the feature axsis. On a randomly selected subset (2000 samples) of the training set,\n",
    "\n",
    "a) Set $\\gamma=r=1$ in the polynomial kernel and, Compute the cross-validated metrics of a Polynomial SVC fitted with the default parameters. The simplest way to use cross-validation is to call the <a href = http://scikit-learn.org/stable/modules/generated/sklearn.model_selection.cross_val_score.html#sklearn.model_selection.cross_val_score > cross_val_score</a> helper function on the estimator and the dataset."
   ]
  },
  {
   "cell_type": "code",
   "execution_count": 16,
   "metadata": {
    "collapsed": false
   },
   "outputs": [
    {
     "name": "stdout",
     "output_type": "stream",
     "text": [
      "Accuracy: 0.9500 (+/- 0.0055)\n"
     ]
    }
   ],
   "source": [
    "# Fit the non-linear SVC\n",
    "poly_svc = svm.SVC(kernel='poly', coef0=1, gamma=1)\n",
    "poly_svc.fit(X_train_sub, y_train_sub)\n",
    "\n",
    "# Compute cross-validated metrics on the SVC\n",
    "scores = cross_val_score(poly_svc, X_train_sub, y_train_sub, cv=5)\n",
    "print (\"Accuracy: %0.4f (+/- %0.4f)\" % (scores.mean(), scores.std() / 2))"
   ]
  },
  {
   "cell_type": "markdown",
   "metadata": {
    "collapsed": true
   },
   "source": [
    "b) Use the <a href = http://scikit-learn.org/stable/modules/generated/sklearn.model_selection.GridSearchCV.html#sklearn.model_selection.GridSearchCV > GridSearchCV</a>  function to performan an exhaustive search over specified parameters for the Polynomial SVC. The parameter space is given by values of C in the range [1, 10, 100, 1000], and values of M from 1 to 6. Adopt a 5-fold cross-validation."
   ]
  },
  {
   "cell_type": "code",
   "execution_count": 17,
   "metadata": {
    "collapsed": false
   },
   "outputs": [
    {
     "data": {
      "text/plain": [
       "GridSearchCV(cv=5, error_score='raise',\n",
       "       estimator=SVC(C=1.0, cache_size=200, class_weight=None, coef0=1,\n",
       "  decision_function_shape=None, degree=3, gamma=1, kernel='poly',\n",
       "  max_iter=-1, probability=False, random_state=None, shrinking=True,\n",
       "  tol=0.001, verbose=False),\n",
       "       fit_params={}, iid=True, n_jobs=1,\n",
       "       param_grid={'degree': [1, 2, 3, 4, 5, 6], 'C': [1, 10, 100, 1000]},\n",
       "       pre_dispatch='2*n_jobs', refit=True, return_train_score=True,\n",
       "       scoring=None, verbose=0)"
      ]
     },
     "execution_count": 17,
     "metadata": {},
     "output_type": "execute_result"
    }
   ],
   "source": [
    "# Parameter space for C\n",
    "C_range = [1, 10, 100, 1000]\n",
    "\n",
    "# Parameter space for the degree M\n",
    "M_range = [1,2,3,4,5,6]\n",
    "\n",
    "# GridSearch with 5-fold CV\n",
    "param_grid_poly = dict(degree=M_range, C=C_range)\n",
    "grid_poly = GridSearchCV(svm.SVC(kernel='poly', coef0=1, gamma=1), param_grid=param_grid_poly, cv=5)\n",
    "grid_poly.fit(X_train_sub, y_train_sub)"
   ]
  },
  {
   "cell_type": "code",
   "execution_count": 18,
   "metadata": {
    "collapsed": false
   },
   "outputs": [
    {
     "name": "stdout",
     "output_type": "stream",
     "text": [
      "The best parameters are {'C': 1, 'degree': 3} with a score of 0.95\n"
     ]
    }
   ],
   "source": [
    "# Obtain the best parameters\n",
    "print('The best parameters are %s with a score of %0.2f'% (grid_poly.best_params_, grid_poly.best_score_))"
   ]
  },
  {
   "cell_type": "markdown",
   "metadata": {},
   "source": [
    "c) On the whole train data set:\n",
    "* Train a single SVC with the best C and M obtained in the previous step"
   ]
  },
  {
   "cell_type": "code",
   "execution_count": 19,
   "metadata": {
    "collapsed": false
   },
   "outputs": [
    {
     "data": {
      "text/plain": [
       "SVC(C=1, cache_size=200, class_weight=None, coef0=1,\n",
       "  decision_function_shape=None, degree=3, gamma=1, kernel='poly',\n",
       "  max_iter=-1, probability=False, random_state=None, shrinking=True,\n",
       "  tol=0.001, verbose=False)"
      ]
     },
     "execution_count": 19,
     "metadata": {},
     "output_type": "execute_result"
    }
   ],
   "source": [
    "# Fit the polynomial SVC with the best parameters\n",
    "poly_svc = svm.SVC(kernel='poly', coef0=1, gamma=1, degree=grid_poly.best_params_['degree'], C=grid_poly.best_params_['C'])\n",
    "poly_svc.fit(X_train_partial, y_train_partial)"
   ]
  },
  {
   "cell_type": "markdown",
   "metadata": {},
   "source": [
    "d) On the test data set:\n",
    "* Evaluate the missclasification rate with the trained classifier. Using Scikit learn \"metrics\" functions give the classification report and the confusion matrix."
   ]
  },
  {
   "cell_type": "code",
   "execution_count": 20,
   "metadata": {
    "collapsed": false
   },
   "outputs": [
    {
     "name": "stdout",
     "output_type": "stream",
     "text": [
      "Error measures:\n",
      "EVS: 0.8891\n",
      "MAE: 0.0277\n",
      "MSE: 0.0277\n",
      "R2: 0.8890\n",
      "Detailed classification report:\n",
      "             precision    recall  f1-score   support\n",
      "\n",
      "        0.0       0.97      0.98      0.97     14746\n",
      "        1.0       0.98      0.97      0.97     15254\n",
      "\n",
      "avg / total       0.97      0.97      0.97     30000\n",
      "\n",
      "Confusion matrix:\n",
      "[[14398   348]\n",
      " [  484 14770]]\n"
     ]
    }
   ],
   "source": [
    "y_pred = poly_svc.predict(X_test)\n",
    "\n",
    "print ('Error measures:')\n",
    "print (\"EVS: %.4f\" % explained_variance_score(y_test, y_pred))\n",
    "print (\"MAE: %.4f\" % mean_absolute_error(y_test, y_pred))\n",
    "print (\"MSE: %.4f\" % mean_squared_error(y_test, y_pred))\n",
    "print (\"R2: %.4f\" % r2_score(y_test, y_pred))\n",
    "\n",
    "print('Detailed classification report:')\n",
    "print(classification_report(y_test, y_pred))\n",
    "\n",
    "print('Confusion matrix:')\n",
    "print(confusion_matrix(y_test, y_pred))"
   ]
  },
  {
   "cell_type": "markdown",
   "metadata": {
    "collapsed": true
   },
   "source": [
    "### 4. Training other classifiers\n",
    "\n",
    "Following the same procedure above, fit a Naive Bayes Classifier and compare the results with those obtained using SVC."
   ]
  },
  {
   "cell_type": "code",
   "execution_count": 21,
   "metadata": {
    "collapsed": false
   },
   "outputs": [
    {
     "data": {
      "text/plain": [
       "GaussianNB(priors=None)"
      ]
     },
     "execution_count": 21,
     "metadata": {},
     "output_type": "execute_result"
    }
   ],
   "source": [
    "# Fit a Naive Bayes Classifier\n",
    "from sklearn.naive_bayes import GaussianNB\n",
    "\n",
    "gnb = GaussianNB()\n",
    "gnb.fit(X_train_partial, y_train_partial)"
   ]
  },
  {
   "cell_type": "code",
   "execution_count": 22,
   "metadata": {
    "collapsed": false
   },
   "outputs": [
    {
     "name": "stdout",
     "output_type": "stream",
     "text": [
      "Error measures:\n",
      "EVS: -0.0083\n",
      "MAE: 0.4736\n",
      "MSE: 0.4736\n",
      "R2: -0.8949\n",
      "Detailed classification report:\n",
      "             precision    recall  f1-score   support\n",
      "\n",
      "        0.0       0.51      1.00      0.67     14746\n",
      "        1.0       0.96      0.07      0.13     15254\n",
      "\n",
      "avg / total       0.74      0.53      0.40     30000\n",
      "\n",
      "Confusion matrix:\n",
      "[[14703    43]\n",
      " [14165  1089]]\n"
     ]
    }
   ],
   "source": [
    "y_pred = gnb.predict(X_test)\n",
    "\n",
    "print ('Error measures:')\n",
    "print (\"EVS: %.4f\" % explained_variance_score(y_test, y_pred))\n",
    "print (\"MAE: %.4f\" % mean_absolute_error(y_test, y_pred))\n",
    "print (\"MSE: %.4f\" % mean_squared_error(y_test, y_pred))\n",
    "print (\"R2: %.4f\" % r2_score(y_test, y_pred))\n",
    "\n",
    "print('Detailed classification report:')\n",
    "print(classification_report(y_test, y_pred))\n",
    "\n",
    "print('Confusion matrix:')\n",
    "print(confusion_matrix(y_test, y_pred))"
   ]
  },
  {
   "cell_type": "markdown",
   "metadata": {},
   "source": [
    "We see that, while the RBF and polynomial SVC have similar prediction accuracy (97%), the Naive Bayes classifier \n",
    "fails to correctly predict the even numbers. The Naive Bayes classifier show an overall accuracy of 75%."
   ]
  }
 ],
 "metadata": {
  "anaconda-cloud": {},
  "kernelspec": {
   "display_name": "Python [conda env:py3.2]",
   "language": "python",
   "name": "conda-env-py3.2-py"
  },
  "language_info": {
   "codemirror_mode": {
    "name": "ipython",
    "version": 3
   },
   "file_extension": ".py",
   "mimetype": "text/x-python",
   "name": "python",
   "nbconvert_exporter": "python",
   "pygments_lexer": "ipython3",
   "version": "3.6.0"
  }
 },
 "nbformat": 4,
 "nbformat_minor": 0
}
